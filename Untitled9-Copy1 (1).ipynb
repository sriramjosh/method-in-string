{
 "cells": [
  {
   "cell_type": "code",
   "execution_count": null,
   "id": "eac0d57f",
   "metadata": {},
   "outputs": [],
   "source": []
  },
  {
   "cell_type": "markdown",
   "id": "21965ec0",
   "metadata": {},
   "source": [
    "# string \n",
    "string is a python sequence of charachters are fundamental data tpes in launguage  you can create manipulate  and work with strings in various ways , \n",
    "##### creating strings \n",
    "string can create with single quates(' '), or double(\" \"), or trile quates(\"',\"'),\n",
    "example\n",
    "                                                                        "
   ]
  },
  {
   "cell_type": "code",
   "execution_count": 10,
   "id": "5fb20eb9",
   "metadata": {},
   "outputs": [],
   "source": [
    "single_quates=' this is sriram joshi.'\n",
    "double_quates=\"this is sriram josh.i\"\n",
    "triple=(\"' my name is sriram joshi, this is sriram joshi, hii my name is sriram joshi joshi.'\")\n",
    "\n"
   ]
  },
  {
   "cell_type": "markdown",
   "id": "9b781714",
   "metadata": {},
   "source": [
    "dir(str)\n",
    "j= string that we are explaing of 47 types of string \n",
    "capitalize',\n",
    " 'casefold',\n",
    " 'center',\n",
    " 'count',\n",
    " 'encode',\n",
    " 'endswith',\n",
    " 'expandtabs',\n",
    " 'find',\n",
    " 'format',\n",
    " 'format_map',\n",
    " 'index',\n",
    " 'isalnum',\n",
    " 'isalpha',\n",
    " 'isascii',\n",
    " 'isdecimal',\n",
    " 'isdigit',\n",
    " 'isidentifier',\n",
    " 'islower',\n",
    " 'isnumeric',\n",
    " 'isprintable',\n",
    " 'isspace',\n",
    " 'istitle',\n",
    " 'isupper',\n",
    " 'join',\n",
    " 'ljust',\n",
    " 'lower',\n",
    " 'lstrip',\n",
    " 'maketrans',\n",
    " 'partition',\n",
    " 'removeprefix',\n",
    " 'removesuffix',\n",
    " 'replace',\n",
    " 'rfind',\n",
    " 'rindex',\n",
    " 'rjust',\n",
    " 'rpartition',\n",
    " 'rsplit',\n",
    " 'rstrip',\n",
    " 'split',\n",
    " 'splitlines',\n",
    " 'startswith',\n",
    " 'strip',\n",
    " 'swapcase',\n",
    " 'title',\n",
    " 'translate',\n",
    " 'upper',\n",
    " 'zfill']"
   ]
  },
  {
   "cell_type": "code",
   "execution_count": null,
   "id": "804c4740",
   "metadata": {},
   "outputs": [],
   "source": [
    "##### add(1) '\n",
    "add is a addition in strings are 4+5=9 or  hello + world, or a=[1,2,3]+[2,3'4]\n",
    "you can add numertic number or concatente string or addtion list in add now for each one iam writing a code in python"
   ]
  },
  {
   "cell_type": "code",
   "execution_count": 16,
   "id": "12d643e9",
   "metadata": {},
   "outputs": [
    {
     "name": "stdout",
     "output_type": "stream",
     "text": [
      "3\n"
     ]
    }
   ],
   "source": [
    "m=1 #### 1 value of m\n",
    "n=2 #### @ value of n\n",
    "result=m+n #### result what are we doing is adding of numrical numbers m and n\n",
    "print(result) ##### print we are asking out out of m+n"
   ]
  },
  {
   "cell_type": "markdown",
   "id": "48daeac2",
   "metadata": {},
   "source": [
    "##### class (2);\n",
    "class  is a blue print of object, like explain \n",
    "1. class student = arun joshi siva \n",
    "arun joshi siva is blue print of class \n",
    "a blueprient is create of object\n",
    "the object is the base class in python\n",
    "the class keyword is used create a class \n",
    "python class defiend as \"_ _int_()method\n",
    "python dont have  support mutiple constructions\n",
    "a class ex construction overloading"
   ]
  },
  {
   "cell_type": "code",
   "execution_count": 40,
   "id": "e9c8e330",
   "metadata": {},
   "outputs": [
    {
     "name": "stdout",
     "output_type": "stream",
     "text": [
      "Name: John , Age: 21\n",
      "Name: Jane , Age: 22\n"
     ]
    }
   ],
   "source": [
    "class Student:\n",
    "    def __init__(self, name, age):\n",
    "        self.name = name\n",
    "        self.age = age\n",
    "\n",
    "    def display(self):\n",
    "        print(\"Name:\", self.name, \", Age:\", self.age)\n",
    "\n",
    "student1 = Student(\"John\", 21)\n",
    "student2 = Student(\"Jane\", 22)\n",
    "\n",
    "student1.display()\n",
    "student2.display()"
   ]
  },
  {
   "cell_type": "markdown",
   "id": "bb384fae",
   "metadata": {},
   "source": [
    "#####  contains(3) \n",
    "cheak if a string contains a substring in python you can use the _contains_() method.\n",
    "this method takes substring is an argument and returns true*(if the substring is present in the string.\n"
   ]
  },
  {
   "cell_type": "code",
   "execution_count": 61,
   "id": "39dc6d9d",
   "metadata": {},
   "outputs": [
    {
     "name": "stdout",
     "output_type": "stream",
     "text": [
      "String contains Substring\n"
     ]
    }
   ],
   "source": [
    "string = \"Hello World!\"\n",
    "substring = \"World\"\n",
    "\n",
    "if string.__contains__(substring):\n",
    "    print(\"String contains Substring\")\n",
    "else:\n",
    "    print(\"String does not contain Substring\")"
   ]
  },
  {
   "cell_type": "markdown",
   "id": "37fed269",
   "metadata": {},
   "source": [
    "#### delattr(4) \n",
    "delattr is a built in python function that is used to delete an attribute from an object.the synax of the delttar()function is a flow\n",
    "delattr(object.name)"
   ]
  },
  {
   "cell_type": "code",
   "execution_count": 67,
   "id": "f44ee6c5",
   "metadata": {},
   "outputs": [
    {
     "name": "stdout",
     "output_type": "stream",
     "text": [
      "Before deleting 'x': {'x': 5, 'y': 10}\n",
      "After deleting 'x': {'y': 10}\n"
     ]
    }
   ],
   "source": [
    "class MyClass:\n",
    "    def __init__(self):\n",
    "        self.x = 5\n",
    "        self.y = 10\n",
    "\n",
    "obj = MyClass()\n",
    "\n",
    "print(\"Before deleting 'x':\", obj.__dict__)\n",
    "delattr(obj, 'x')\n",
    "print(\"After deleting 'x':\", obj.__dict__)"
   ]
  },
  {
   "cell_type": "markdown",
   "id": "2b15e0e1",
   "metadata": {},
   "source": [
    "##### dir(5)\n",
    " a built-in Python function that returns a list of the attributes and methods of any object. It can be used to inspect the contents of a module, class, or instance. The syntax of the dir() function is as follows:\n",
    " dir(object) ex;;"
   ]
  },
  {
   "cell_type": "code",
   "execution_count": 71,
   "id": "b0b78040",
   "metadata": {},
   "outputs": [
    {
     "data": {
      "text/plain": [
       "81"
      ]
     },
     "execution_count": 71,
     "metadata": {},
     "output_type": "execute_result"
    }
   ],
   "source": [
    "len(dir(str))"
   ]
  },
  {
   "cell_type": "markdown",
   "id": "efec0a39",
   "metadata": {},
   "source": [
    "##### capitalize(6) \n",
    "capititalize() is used upeer case to lower case, lower case to upper case\n",
    "first character of a string to upper case and rest pf charcter to lower case\n",
    "here is a explain\n"
   ]
  },
  {
   "cell_type": "code",
   "execution_count": 76,
   "id": "62b08982",
   "metadata": {},
   "outputs": [
    {
     "name": "stdout",
     "output_type": "stream",
     "text": [
      "Hello world\n"
     ]
    }
   ],
   "source": [
    "my_string =\"hello world\"\n",
    "capitalized_string=my_string.capitalize()\n",
    "print(capitalized_string)"
   ]
  },
  {
   "cell_type": "markdown",
   "id": "9318bcaf",
   "metadata": {},
   "source": [
    "##### center(7)\n",
    "method is used to center the value of string by padding specifed charcter in space ,total lenght argument speccifics the total lenght\n",
    "here is explain"
   ]
  },
  {
   "cell_type": "code",
   "execution_count": 79,
   "id": "83cd4c72",
   "metadata": {},
   "outputs": [
    {
     "name": "stdout",
     "output_type": "stream",
     "text": [
      "aajoshiaaa\n"
     ]
    }
   ],
   "source": [
    "my_string=\"joshi\"\n",
    "centered_string = my_string.center(10,\"a\")\n",
    "print(centered_string)"
   ]
  },
  {
   "cell_type": "markdown",
   "id": "35062c5f",
   "metadata": {},
   "source": [
    "##### count(8)\n",
    "in python count the number of occurrences of a specified element in a list the menthod takes one argument, which is the element  in a list here is a explain\n"
   ]
  },
  {
   "cell_type": "code",
   "execution_count": 81,
   "id": "2fa692e2",
   "metadata": {},
   "outputs": [
    {
     "name": "stdout",
     "output_type": "stream",
     "text": [
      "1\n"
     ]
    }
   ],
   "source": [
    "my_list = [1,2,3,4,5,6,7,8,9,10]\n",
    "count_of_5 = my_list.count(5)\n",
    "print(count_of_5)"
   ]
  },
  {
   "cell_type": "markdown",
   "id": "dd66324a",
   "metadata": {},
   "source": [
    "##### enclosed(9) =\n",
    "enclosed scope refers to a scope of a variable inside a function with nested function ,ex of enclosed"
   ]
  },
  {
   "cell_type": "code",
   "execution_count": 92,
   "id": "caf66270",
   "metadata": {},
   "outputs": [
    {
     "name": "stdout",
     "output_type": "stream",
     "text": [
      "1\n",
      "2\n",
      "1\n"
     ]
    }
   ],
   "source": [
    "def red():\n",
    "    a = 1\n",
    "    def blue():\n",
    "        b = 2\n",
    "        print(a)\n",
    "        print(b)\n",
    "    blue()\n",
    "    print(a)\n",
    "\n",
    "red()"
   ]
  },
  {
   "cell_type": "markdown",
   "id": "87333a31",
   "metadata": {},
   "source": [
    "#### endswith(10) \n",
    "we shall look at multiple test cases on how one can use PythonString endswith() method without start and end parameters. "
   ]
  },
  {
   "cell_type": "code",
   "execution_count": null,
   "id": "85141d0e",
   "metadata": {},
   "outputs": [],
   "source": [
    "my_string = \"Hello, world!\"\n",
    "if my_string.endswith(\"!\"):\n",
    "    print(\"The string ends with an exclamation mark.\")\n",
    "else:\n",
    "    print(\"The string does not end with an exclamation mark.\")"
   ]
  },
  {
   "cell_type": "markdown",
   "id": "a2454ec5",
   "metadata": {},
   "source": [
    "#### expandtabs(11)\n",
    "in python used to replace all the tabs character(\\t) in a string with one or more spaces the method taked one optional arument\n",
    "\n"
   ]
  },
  {
   "cell_type": "code",
   "execution_count": 94,
   "id": "393e060d",
   "metadata": {},
   "outputs": [
    {
     "name": "stdout",
     "output_type": "stream",
     "text": [
      "Hello   world\n"
     ]
    }
   ],
   "source": [
    "my_string = \"Hello\\tworld\"\n",
    "expanded_string = my_string.expandtabs()\n",
    "print(expanded_string)"
   ]
  },
  {
   "cell_type": "markdown",
   "id": "d0d6d672",
   "metadata": {},
   "source": [
    "##### find(12) \n",
    "in python used as a find the value of function  substring in a string the method takes one requested argument"
   ]
  },
  {
   "cell_type": "code",
   "execution_count": 95,
   "id": "f3c1db15",
   "metadata": {},
   "outputs": [
    {
     "name": "stdout",
     "output_type": "stream",
     "text": [
      "4\n"
     ]
    }
   ],
   "source": [
    "my_string = \"Hello, world!\"\n",
    "index_of_o = my_string.find(\"o\")\n",
    "print(index_of_o)\n"
   ]
  },
  {
   "cell_type": "markdown",
   "id": "2ef43dd3",
   "metadata": {},
   "source": [
    "#### format(13)\n",
    "method to format the specified value(s) and insert them inside the string's placeh\n"
   ]
  },
  {
   "cell_type": "code",
   "execution_count": 1,
   "id": "f9d8f80a",
   "metadata": {},
   "outputs": [
    {
     "name": "stdout",
     "output_type": "stream",
     "text": [
      "For only 49.00 dollars!\n"
     ]
    }
   ],
   "source": [
    "my_string = \"For only {price:.2f} dollars!\"\n",
    "formatted_string = my_string.format(price=49)\n",
    "print(formatted_string)\n"
   ]
  },
  {
   "cell_type": "markdown",
   "id": "e49a621c",
   "metadata": {},
   "source": [
    "##### format map(14)\n",
    "Python String format_map() method is an inbuilt function in Python, which is used to return a dictionary key’s value\n"
   ]
  },
  {
   "cell_type": "markdown",
   "id": "5d1af860",
   "metadata": {},
   "source": [
    "my_dict = {'name': 'John', 'age': 30}\n",
    "my_string = \"My name is {name} and I am {age} years old.\"\n",
    "formatted_string = my_string.format_map(my_dict)\n",
    "print(formatted_string)"
   ]
  },
  {
   "cell_type": "markdown",
   "id": "6a104a19",
   "metadata": {},
   "source": [
    "###### inndex (15) \n",
    "method is used to find the index of the first occerence the method requested argument which element of searched for"
   ]
  },
  {
   "cell_type": "code",
   "execution_count": null,
   "id": "80dbc9ea",
   "metadata": {},
   "outputs": [],
   "source": [
    "my_list = [1, 2, 3, 4, 5, 6, 7, 8, 9, 10]\n",
    "index_of_5 = my_list.index(5)\n",
    "print(index_of_5)\n"
   ]
  },
  {
   "cell_type": "markdown",
   "id": "68e56f7f",
   "metadata": {},
   "source": [
    "##### isalum(16) \n",
    "cheak the characters in a string are alphanumeric meaning (a-z)and njumbers(0-9)"
   ]
  },
  {
   "cell_type": "code",
   "execution_count": null,
   "id": "32708d2b",
   "metadata": {},
   "outputs": [],
   "source": [
    "my_string = \"Company12\"\n",
    "is_alphanumeric = my_string.isalnum()\n",
    "print(is_alphanumeric)\n"
   ]
  },
  {
   "cell_type": "markdown",
   "id": "09868800",
   "metadata": {},
   "source": [
    "#### isalpha(17)\n",
    " the method is used for check the all the character is alphabetic i, there is one charaacter is not there its shows false in string ."
   ]
  },
  {
   "cell_type": "code",
   "execution_count": null,
   "id": "1d92c5a5",
   "metadata": {},
   "outputs": [],
   "source": [
    "my_string = \"Hello\"\n",
    "is_alpha = my_string.isalpha()\n",
    "print(is_alpha)\n"
   ]
  },
  {
   "cell_type": "markdown",
   "id": "10662ff3",
   "metadata": {},
   "source": [
    "#### isascii(18)\n",
    "the method is used to cheak all the characters in a string are ascii character in ASCII characterd in the string  is true are  false"
   ]
  },
  {
   "cell_type": "code",
   "execution_count": 3,
   "id": "b811fa8f",
   "metadata": {},
   "outputs": [
    {
     "name": "stdout",
     "output_type": "stream",
     "text": [
      "True\n"
     ]
    }
   ],
   "source": [
    "y_string = \"Hello\"\n",
    "is_ascii = my_string.isascii()\n",
    "print(is_ascii)"
   ]
  },
  {
   "cell_type": "markdown",
   "id": "577ced19",
   "metadata": {},
   "source": [
    "##### isdecimal(19)\n",
    "the metod is used to cheak if all the characterd in a string are decimal digits(0-9)\n"
   ]
  },
  {
   "cell_type": "code",
   "execution_count": 4,
   "id": "eeb47b37",
   "metadata": {},
   "outputs": [
    {
     "name": "stdout",
     "output_type": "stream",
     "text": [
      "True\n"
     ]
    }
   ],
   "source": [
    "my_string = \"1234\"\n",
    "is_decimal = my_string.isdecimal()\n",
    "print(is_decimal)\n"
   ]
  },
  {
   "cell_type": "markdown",
   "id": "d2a3ffaf",
   "metadata": {},
   "source": [
    "#### isdigit(20)\n",
    "method is used to cheak all the charcter in a string are digits, th method returns true if all the charcters in hte string are digits there is not one character it is false"
   ]
  },
  {
   "cell_type": "code",
   "execution_count": 5,
   "id": "9853966b",
   "metadata": {},
   "outputs": [
    {
     "name": "stdout",
     "output_type": "stream",
     "text": [
      "True\n"
     ]
    }
   ],
   "source": [
    "my_string = \"1234\"\n",
    "is_decimal = my_string.isdecimal()\n",
    "print(is_decimal)\n"
   ]
  },
  {
   "cell_type": "markdown",
   "id": "d13c6bca",
   "metadata": {},
   "source": [
    "#### isidentifier(21)\n",
    "is used for cheak the string in a valid identifier\n",
    "a string is a consideres is a valid indentifier\n",
    "if it on;y contains alphanumeric letters(a_Z)\n"
   ]
  },
  {
   "cell_type": "code",
   "execution_count": 6,
   "id": "1aa99682",
   "metadata": {},
   "outputs": [
    {
     "name": "stdout",
     "output_type": "stream",
     "text": [
      "True\n"
     ]
    }
   ],
   "source": [
    "my_string = \"hello_world_123\"\n",
    "is_identifier = my_string.isidentifier()\n",
    "print(is_identifier)\n"
   ]
  },
  {
   "cell_type": "markdown",
   "id": "42d5be05",
   "metadata": {},
   "source": [
    "##### islower(22)\\\n",
    "is lower is the _characters is lower case are not in mutilpe line also\n",
    "\"helo\"\n",
    "is true"
   ]
  },
  {
   "cell_type": "code",
   "execution_count": 7,
   "id": "c156e3f3",
   "metadata": {},
   "outputs": [
    {
     "name": "stdout",
     "output_type": "stream",
     "text": [
      "True\n"
     ]
    }
   ],
   "source": [
    "my_string = \"hello\"\n",
    "is_lower = my_string.islower()\n",
    "print(is_lower)\n"
   ]
  },
  {
   "cell_type": "markdown",
   "id": "f3a76942",
   "metadata": {},
   "source": [
    "#### isnumeric(23)\n",
    "the method in python  cheak the the all the characteric are numeric or not \n",
    "if true all the characters in a string are numeric()"
   ]
  },
  {
   "cell_type": "code",
   "execution_count": 8,
   "id": "60b55388",
   "metadata": {},
   "outputs": [
    {
     "name": "stdout",
     "output_type": "stream",
     "text": [
      "True\n"
     ]
    }
   ],
   "source": [
    "my_string = \"1234\"\n",
    "is_numeric = my_string.isnumeric()\n",
    "print(is_numeric)\n"
   ]
  },
  {
   "cell_type": "markdown",
   "id": "1b8687b4",
   "metadata": {},
   "source": [
    "#### upper(24)\n",
    "the upper in a string if the format of character is lower case change in upper case best ex is small letter to capalize letter"
   ]
  },
  {
   "cell_type": "code",
   "execution_count": null,
   "id": "befa44d0",
   "metadata": {},
   "outputs": [],
   "source": [
    "my_string = \"hello, world!\"\n",
    "upper_string = my_string.upper()\n",
    "print(upper_string)\n"
   ]
  },
  {
   "cell_type": "markdown",
   "id": "4f63de4c",
   "metadata": {},
   "source": [
    "##### lower(25)\n",
    "the lower case is  character is upper to lower case \n",
    "capitial words to small letter"
   ]
  },
  {
   "cell_type": "code",
   "execution_count": 9,
   "id": "9e82b3d9",
   "metadata": {},
   "outputs": [
    {
     "name": "stdout",
     "output_type": "stream",
     "text": [
      "HELLO, WORLD!\n"
     ]
    }
   ],
   "source": [
    "my_string = \"hello, world!\"\n",
    "upper_string = my_string.upper()\n",
    "print(upper_string)\n"
   ]
  },
  {
   "cell_type": "markdown",
   "id": "e714e63f",
   "metadata": {},
   "source": [
    "##### replace(26)\n",
    "The replace() method replaces a specifiedphrase with another specified phrase"
   ]
  },
  {
   "cell_type": "code",
   "execution_count": 10,
   "id": "fdfaf031",
   "metadata": {},
   "outputs": [
    {
     "name": "stdout",
     "output_type": "stream",
     "text": [
      "Hello! world!\n"
     ]
    }
   ],
   "source": [
    "my_string = \"Hello, world!\"\n",
    "new_string = my_string.replace(\",\", \"!\")\n",
    "print(new_string)\n"
   ]
  },
  {
   "cell_type": "markdown",
   "id": "5b372196",
   "metadata": {},
   "source": [
    "##### split(27)\n",
    "Python String split () Method Definition and Usage. The split () method splits a string into a list. You can specify the separator, default separator... Syntax. Parameter Values. Specifies the separator to use when splitting the string"
   ]
  },
  {
   "cell_type": "code",
   "execution_count": 11,
   "id": "67e71441",
   "metadata": {},
   "outputs": [
    {
     "name": "stdout",
     "output_type": "stream",
     "text": [
      "['Hello', ' world!']\n"
     ]
    }
   ],
   "source": [
    "my_string = \"Hello, world!\"\n",
    "split_string = my_string.split(\",\")\n",
    "print(split_string)\n"
   ]
  },
  {
   "cell_type": "markdown",
   "id": "6e17973d",
   "metadata": {},
   "source": [
    "#####  swapcase(28)\n",
    "nbuilt function swapcase () is present which automatically converts the case of each and every letter. Even after entering the mixture of lowercase and uppercase letters it will handle it properly and return the answer as expected. Here is my code: str1 = input (\"enter str= \") res = str1.swapcase () print (res)"
   ]
  },
  {
   "cell_type": "code",
   "execution_count": null,
   "id": "0110baf5",
   "metadata": {},
   "outputs": [],
   "source": [
    "my_string = \"Hello, World!\"\n",
    "swapped_string = my_string.swapcase()\n",
    "print(swapped_string)\n"
   ]
  },
  {
   "cell_type": "markdown",
   "id": "eb25389e",
   "metadata": {},
   "source": [
    "##### rslip(29)\n",
    "The rsplit () method splits a string into a list, starting from the right. If no \"max\" is specified, this method will return the same as the split () method. Note: When maxsplit is specified, the list will contain the specified number of elements plus one."
   ]
  },
  {
   "cell_type": "code",
   "execution_count": 12,
   "id": "74b008e6",
   "metadata": {},
   "outputs": [
    {
     "name": "stdout",
     "output_type": "stream",
     "text": [
      "hELLO, WORLD!\n"
     ]
    }
   ],
   "source": [
    "y_string = \"Hello, World!\"\n",
    "swapped_string = my_string.swapcase()\n",
    "print(swapped_string)"
   ]
  },
  {
   "cell_type": "markdown",
   "id": "8a4f5cd1",
   "metadata": {},
   "source": []
  }
 ],
 "metadata": {
  "kernelspec": {
   "display_name": "Python 3 (ipykernel)",
   "language": "python",
   "name": "python3"
  },
  "language_info": {
   "codemirror_mode": {
    "name": "ipython",
    "version": 3
   },
   "file_extension": ".py",
   "mimetype": "text/x-python",
   "name": "python",
   "nbconvert_exporter": "python",
   "pygments_lexer": "ipython3",
   "version": "3.11.5"
  }
 },
 "nbformat": 4,
 "nbformat_minor": 5
}
